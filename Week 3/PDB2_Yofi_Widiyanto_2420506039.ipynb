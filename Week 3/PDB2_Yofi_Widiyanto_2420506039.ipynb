{
  "nbformat": 4,
  "nbformat_minor": 0,
  "metadata": {
    "colab": {
      "provenance": []
    },
    "kernelspec": {
      "name": "python3",
      "display_name": "Python 3"
    },
    "language_info": {
      "name": "python"
    }
  },
  "cells": [
    {
      "cell_type": "markdown",
      "source": [
        "### 1. Pengenalan Spark DataFrames\n",
        "Spark DataFrame menyediakan struktur data yang optimal dengan operasi yang dioptimalkan untuk pemrosesan data besar, yang sangat mirip dengan DataFrame di Pandas atau di RDBMS.\n",
        "\n",
        "- **Tugas 1**: Buat DataFrame sederhana di Spark dan eksplorasi beberapa fungsi dasar yang tersedia."
      ],
      "metadata": {
        "id": "SUQTOx5BuiAO"
      }
    },
    {
      "cell_type": "code",
      "execution_count": 65,
      "metadata": {
        "colab": {
          "base_uri": "https://localhost:8080/"
        },
        "id": "ycpcjFrWtT9u",
        "outputId": "2fac98d5-f5cd-4a55-c468-81a9d3f98208"
      },
      "outputs": [
        {
          "output_type": "stream",
          "name": "stdout",
          "text": [
            "+------------+----------+------+\n",
            "|EmployeeName|Department|Salary|\n",
            "+------------+----------+------+\n",
            "|       James|     Sales|  3000|\n",
            "|     Michael|     Sales|  4600|\n",
            "|      Robert|     Sales|  4100|\n",
            "|       Maria|   Finance|  3000|\n",
            "+------------+----------+------+\n",
            "\n"
          ]
        }
      ],
      "source": [
        "# Contoh membuat DataFrame sederhana dan operasi dasar\n",
        "from pyspark.sql import SparkSession\n",
        "spark = SparkSession.builder.appName('HandsOnPertemuan3').getOrCreate()\n",
        "\n",
        "data = [('James', 'Sales', 3000),\n",
        "        ('Michael', 'Sales', 4600),\n",
        "        ('Robert', 'Sales', 4100),\n",
        "        ('Maria', 'Finance', 3000)]\n",
        "columns = ['EmployeeName', 'Department', 'Salary']\n",
        "\n",
        "df = spark.createDataFrame(data, schema=columns)\n",
        "df.show()"
      ]
    },
    {
      "cell_type": "markdown",
      "source": [
        "### 2. Transformasi Dasar dengan DataFrames\n",
        "Pemrosesan data meliputi transformasi seperti filtering, selections, dan aggregations. Spark menyediakan cara efisien untuk melaksanakan operasi ini.\n",
        "\n",
        "- **Tugas 2**: Gunakan operasi filter, select, groupBy untuk mengekstrak informasi dari data, serta lakukan agregasi data untuk mendapatkan insight tentang dataset menggunakan perintah seperti mean, max, sum."
      ],
      "metadata": {
        "id": "MLLWHZbqtgQq"
      }
    },
    {
      "cell_type": "code",
      "source": [
        "# Contoh operasi transformasi DataFrame\n",
        "select('EmployeeName', 'Salary').show()\n",
        "filter(df['Salary'] > 3000).show()\n",
        "groupBy('Department').avg('Salary').show()"
      ],
      "metadata": {
        "id": "PUsUTX6Jtgmg"
      },
      "execution_count": null,
      "outputs": []
    },
    {
      "cell_type": "code",
      "source": [
        "#Select kolom tertentu\n",
        "print(\"Data Kolom EmployeeName dan Salary\")\n",
        "df.select('EmployeeName', 'Salary').show()\n",
        "\n",
        "#Filter gaji lebih dari 3000\n",
        "print(\"Salary above 3000\")\n",
        "df.filter(df['Salary'] > 3000).show()\n",
        "\n",
        "#GroupBy Department dan hitung rata-rata gaji\n",
        "print(\"Mean Salary per Department\")\n",
        "df.groupBy('Department').avg('Salary').show()\n",
        "\n",
        "#GroupBy Department dan hitung nilai maksimum gaji\n",
        "print(\"Salary Max per Department\")\n",
        "df.groupBy('Department').max('Salary').show()\n",
        "\n",
        "#GroupBy Department dan hitung total gaji\n",
        "print(\"Total Salary per Department\")\n",
        "df.groupBy('Department').sum('Salary').show()\n"
      ],
      "metadata": {
        "colab": {
          "base_uri": "https://localhost:8080/"
        },
        "id": "NfWhhv93yYqp",
        "outputId": "3265ba58-ffb0-4f6a-cf58-c50e03222f97"
      },
      "execution_count": 76,
      "outputs": [
        {
          "output_type": "stream",
          "name": "stdout",
          "text": [
            "Data Kolom EmployeeName dan Salary\n",
            "+------------+------+\n",
            "|EmployeeName|Salary|\n",
            "+------------+------+\n",
            "|       James|  3000|\n",
            "|     Michael|  4600|\n",
            "|      Robert|  4100|\n",
            "|       Maria|  3000|\n",
            "+------------+------+\n",
            "\n",
            "Salary above 3000\n",
            "+------------+----------+------+\n",
            "|EmployeeName|Department|Salary|\n",
            "+------------+----------+------+\n",
            "|     Michael|     Sales|  4600|\n",
            "|      Robert|     Sales|  4100|\n",
            "+------------+----------+------+\n",
            "\n",
            "Mean Salary per Department\n",
            "+----------+-----------+\n",
            "|Department|avg(Salary)|\n",
            "+----------+-----------+\n",
            "|     Sales|     3900.0|\n",
            "|   Finance|     3000.0|\n",
            "+----------+-----------+\n",
            "\n",
            "Salary Max per Department\n",
            "+----------+-----------+\n",
            "|Department|max(Salary)|\n",
            "+----------+-----------+\n",
            "|     Sales|       4600|\n",
            "|   Finance|       3000|\n",
            "+----------+-----------+\n",
            "\n",
            "Total Salary per Department\n",
            "+----------+-----------+\n",
            "|Department|sum(Salary)|\n",
            "+----------+-----------+\n",
            "|     Sales|      11700|\n",
            "|   Finance|       3000|\n",
            "+----------+-----------+\n",
            "\n"
          ]
        }
      ]
    },
    {
      "cell_type": "markdown",
      "source": [
        "### 3. Bekerja dengan Tipe Data Kompleks\n",
        "Spark mendukung tipe data yang kompleks seperti maps, arrays, dan structs yang memungkinkan operasi yang lebih kompleks pada dataset yang kompleks.\n",
        "\n",
        "- **Tugas 3**: Eksplorasi bagaimana mengolah tipe data kompleks dalam Spark DataFrames."
      ],
      "metadata": {
        "id": "4vLqNBR-tg-b"
      }
    },
    {
      "cell_type": "code",
      "source": [
        "# Contoh manipulasi tipe data kompleks\n",
        "df.withColumn('SalaryBonus', df['Salary'] * 0.1).show()\n",
        "df.withColumn('TotalCompensation', df['Salary'] + df['SalaryBonus']).show()"
      ],
      "metadata": {
        "id": "gf68aHr6thX6"
      },
      "execution_count": null,
      "outputs": []
    },
    {
      "cell_type": "code",
      "source": [
        "# Contoh manipulasi tipe data kompleks\n",
        "from pyspark.sql.functions import explode\n",
        "from pyspark.sql.types import StructType, StructField, StringType, IntegerType, MapType\n",
        "\n",
        "# Tambah kolom Array Skill\n",
        "data_array = [\n",
        "    ('James', 'Sales', 3000, [\"Excel\", \"PowerPoint\"]),\n",
        "    ('Michael', 'Sales', 4600, [\"Python\", \"SQL\"]),\n",
        "    ('Robert', 'Sales', 4100, [\"Java\", \"Scala\"]),\n",
        "    ('Maria', 'Finance', 3000, [\"Accounting\", \"Excel\"])\n",
        "]\n",
        "\n",
        "columns_array = ['EmployeeName', 'Department', 'Salary', 'Skills']\n",
        "df_array = spark.createDataFrame(data_array, schema=columns_array)\n",
        "\n",
        "print(\"Data dengan Skills\")\n",
        "df_array.show(truncate=False)\n",
        "\n",
        "# Explode array ke baris terpisah\n",
        "print(\"Data EmployeeName dan Skill\")\n",
        "df_array.select(\"EmployeeName\", explode(\"Skills\").alias(\"Skill\")).show()\n",
        "\n",
        "#Tambah kolom Struct addres\n",
        "data_struct = [\n",
        "    ('James', 'Sales', 3000, (\"Gotham\", 1231)),\n",
        "    ('Michael', 'Sales', 4600, (\"Untid\", 1232)),\n",
        "    ('Robert', 'Sales', 4100, (\"Bikini Bottom\", 1233)),\n",
        "    ('Maria', 'Finance', 3000, (\"Destian\", 1234))\n",
        "]\n",
        "\n",
        "schema_struct = StructType([\n",
        "    StructField(\"EmployeeName\", StringType(), True),\n",
        "    StructField(\"Department\", StringType(), True),\n",
        "    StructField(\"Salary\", IntegerType(), True),\n",
        "    StructField(\"Address\", StructType([\n",
        "        StructField(\"City\", StringType(), True),\n",
        "        StructField(\"Zipcode\", IntegerType(), True)\n",
        "    ]))\n",
        "])\n",
        "\n",
        "df_struct = spark.createDataFrame(data_struct, schema=schema_struct)\n",
        "\n",
        "print(\"Data dengan Addres\")\n",
        "df_struct.show(truncate=False)\n",
        "\n",
        "# Akses field nested\n",
        "print(\"Data EmployeeName, City, dan Zipcode\")\n",
        "df_struct.select(\"EmployeeName\", \"Address.City\", \"Address.Zipcode\").show()"
      ],
      "metadata": {
        "colab": {
          "base_uri": "https://localhost:8080/"
        },
        "id": "fpL6N5rezMOQ",
        "outputId": "e5b8fbaf-b13d-43d2-e1c4-4d7d4dd70222"
      },
      "execution_count": 127,
      "outputs": [
        {
          "output_type": "stream",
          "name": "stdout",
          "text": [
            "Data dengan Skills\n",
            "+------------+----------+------+-------------------+\n",
            "|EmployeeName|Department|Salary|Skills             |\n",
            "+------------+----------+------+-------------------+\n",
            "|James       |Sales     |3000  |[Excel, PowerPoint]|\n",
            "|Michael     |Sales     |4600  |[Python, SQL]      |\n",
            "|Robert      |Sales     |4100  |[Java, Scala]      |\n",
            "|Maria       |Finance   |3000  |[Accounting, Excel]|\n",
            "+------------+----------+------+-------------------+\n",
            "\n",
            "Data EmployeeName dan Skill\n",
            "+------------+----------+\n",
            "|EmployeeName|     Skill|\n",
            "+------------+----------+\n",
            "|       James|     Excel|\n",
            "|       James|PowerPoint|\n",
            "|     Michael|    Python|\n",
            "|     Michael|       SQL|\n",
            "|      Robert|      Java|\n",
            "|      Robert|     Scala|\n",
            "|       Maria|Accounting|\n",
            "|       Maria|     Excel|\n",
            "+------------+----------+\n",
            "\n",
            "Data dengan Addres\n",
            "+------------+----------+------+---------------------+\n",
            "|EmployeeName|Department|Salary|Address              |\n",
            "+------------+----------+------+---------------------+\n",
            "|James       |Sales     |3000  |{Gotham, 1231}       |\n",
            "|Michael     |Sales     |4600  |{Untid, 1232}        |\n",
            "|Robert      |Sales     |4100  |{Bikini Bottom, 1233}|\n",
            "|Maria       |Finance   |3000  |{Destian, 1234}      |\n",
            "+------------+----------+------+---------------------+\n",
            "\n",
            "Data EmployeeName, City, dan Zipcode\n",
            "+------------+-------------+-------+\n",
            "|EmployeeName|         City|Zipcode|\n",
            "+------------+-------------+-------+\n",
            "|       James|       Gotham|   1231|\n",
            "|     Michael|        Untid|   1232|\n",
            "|      Robert|Bikini Bottom|   1233|\n",
            "|       Maria|      Destian|   1234|\n",
            "+------------+-------------+-------+\n",
            "\n"
          ]
        }
      ]
    },
    {
      "cell_type": "markdown",
      "source": [
        "### 4. Operasi Data Lanjutan\n",
        "Menggunakan Spark untuk operasi lanjutan seperti window functions, user-defined functions (UDFs), dan mengoptimalkan query.\n",
        "\n",
        "- **Tugas 4**: Implementasikan window function untuk menghitung running totals atau rangkings."
      ],
      "metadata": {
        "id": "t-dkgd2UtiKW"
      }
    },
    {
      "cell_type": "code",
      "source": [
        "# Contoh menggunakan window functions\n",
        "from pyspark.sql.window import Window\n",
        "from pyspark.sql import functions as F\n",
        "\n",
        "windowSpec = Window.partitionBy('Department').orderBy('Salary')\n",
        "df.withColumn('Rank', F.rank().over(windowSpec)).show()"
      ],
      "metadata": {
        "colab": {
          "base_uri": "https://localhost:8080/"
        },
        "id": "7sY7r1y0tifC",
        "outputId": "559b1048-aa76-4abc-b090-4f530aa9b0d7"
      },
      "execution_count": 128,
      "outputs": [
        {
          "output_type": "stream",
          "name": "stdout",
          "text": [
            "+------------+----------+------+----+\n",
            "|EmployeeName|Department|Salary|Rank|\n",
            "+------------+----------+------+----+\n",
            "|       Maria|   Finance|  3000|   1|\n",
            "|       James|     Sales|  3000|   1|\n",
            "|      Robert|     Sales|  4100|   2|\n",
            "|     Michael|     Sales|  4600|   3|\n",
            "+------------+----------+------+----+\n",
            "\n"
          ]
        }
      ]
    },
    {
      "cell_type": "code",
      "source": [
        "# Import library\n",
        "from pyspark.sql.window import Window\n",
        "from pyspark.sql import functions as F\n",
        "\n",
        "# WindowSpec: kelompokkan per Department, urutkan berdasarkan Salary\n",
        "windowSpec = Window.partitionBy('Department').orderBy('Salary')\n",
        "\n",
        "# Contoh menggunakan window functions untuk ranking\n",
        "df_with_rank = df.withColumn('Rank', F.rank().over(windowSpec))\n",
        "print(\"Penggunaan window functions untuk ranking\")\n",
        "df_with_rank.show()\n",
        "\n",
        "# Contoh menggunakan window functions untuk running total\n",
        "df_running = df.withColumn('RunningTotal', F.sum('Salary').over(windowSpec))\n",
        "print(\"Penggunaan window functions untuk running total\")\n",
        "df_running.show()"
      ],
      "metadata": {
        "colab": {
          "base_uri": "https://localhost:8080/"
        },
        "id": "VSPbrbYnzUX6",
        "outputId": "a71d95f5-61ed-4048-a000-c2e7c89ef010"
      },
      "execution_count": 129,
      "outputs": [
        {
          "output_type": "stream",
          "name": "stdout",
          "text": [
            "Penggunaan window functions untuk ranking\n",
            "+------------+----------+------+----+\n",
            "|EmployeeName|Department|Salary|Rank|\n",
            "+------------+----------+------+----+\n",
            "|       Maria|   Finance|  3000|   1|\n",
            "|       James|     Sales|  3000|   1|\n",
            "|      Robert|     Sales|  4100|   2|\n",
            "|     Michael|     Sales|  4600|   3|\n",
            "+------------+----------+------+----+\n",
            "\n",
            "Penggunaan window functions untuk running total\n",
            "+------------+----------+------+------------+\n",
            "|EmployeeName|Department|Salary|RunningTotal|\n",
            "+------------+----------+------+------------+\n",
            "|       Maria|   Finance|  3000|        3000|\n",
            "|       James|     Sales|  3000|        3000|\n",
            "|      Robert|     Sales|  4100|        7100|\n",
            "|     Michael|     Sales|  4600|       11700|\n",
            "+------------+----------+------+------------+\n",
            "\n"
          ]
        }
      ]
    },
    {
      "cell_type": "markdown",
      "source": [],
      "metadata": {
        "id": "4e3U0M82tity"
      }
    },
    {
      "cell_type": "markdown",
      "source": [
        "### 5. Kesimpulan dan Eksplorasi Lebih Lanjut\n",
        "Review apa yang telah dipelajari tentang pemrosesan data menggunakan Spark dan eksplorasi teknik lebih lanjut untuk mengoptimalkan pemrosesan data Anda.\n",
        "<br>**Tugas 5**:\n",
        "- Unduh dataset besar dari [Kaggle](https://www.kaggle.com/) atau sumber lainnya.\n",
        "- Input data csv yang telah di download, kemudian load dan simpan data ke dalam pyspark.\n",
        "- Setelah data berhasil di load menggunakan pyspark, lakukan manipulasi data untuk memperoleh informasi yang dibutuhkan"
      ],
      "metadata": {
        "id": "sQbDFim2u0Dv"
      }
    },
    {
      "cell_type": "code",
      "source": [
        "from pyspark.sql import SparkSession\n",
        "\n",
        "# Inisialisasi SparkSession\n",
        "spark = SparkSession.builder.appName(\"DPR-RI\").getOrCreate()\n",
        "\n",
        "# Load dataset dari CSV\n",
        "df_dpr = spark.read.csv(\"Anggota DPR RI 2024-2029.csv\", header=True, inferSchema=True)\n",
        "\n",
        "# Tampilkan beberapa baris awal\n",
        "df_dpr.show()\n",
        "\n",
        "# Cek skema dataset\n",
        "df_dpr.printSchema()"
      ],
      "metadata": {
        "colab": {
          "base_uri": "https://localhost:8080/"
        },
        "id": "OF_NV7px0GoB",
        "outputId": "8835e37f-af2e-4603-fa0e-fc95b6a06eaa"
      },
      "execution_count": 124,
      "outputs": [
        {
          "output_type": "stream",
          "name": "stdout",
          "text": [
            "+-----------+----------------+--------------------+-------------+-----------+--------+--------------------+--------------+------------------+\n",
            "|No. Anggota|Daerah pemilihan|                Nama|Jenis Kelamin|     Komisi|  Fraksi|             Jabatan|      Provinsi|           Koalisi|\n",
            "+-----------+----------------+--------------------+-------------+-----------+--------+--------------------+--------------+------------------+\n",
            "|          1|          Aceh I|H. Irmawan S.Sos....|    Laki-Laki|   Komisi V|     PKB|                   -|          Aceh|           Oposisi|\n",
            "|        155|          Aceh I|Jamaluddin Idham ...|    Laki-Laki|Komisi XIII|   PDI-P|                   -|          Aceh|           Oposisi|\n",
            "|        264|          Aceh I|Drs. H. T. Zulkar...|    Laki-Laki| Komisi VII|  Golkar|                   -|          Aceh|Koalisi Pemerintah|\n",
            "|        366|          Aceh I|H. Muslim Ayub S....|    Laki-Laki|Komisi XIII|  NasDem|                   -|          Aceh|           Oposisi|\n",
            "|        435|          Aceh I|             Ghufran|    Laki-Laki|  Komisi VI|     PKS|                   -|          Aceh|           Oposisi|\n",
            "|        488|          Aceh I|H. Nazaruddin Dek...|    Laki-Laki| Komisi III|     PAN|Ketua Mahkamah Ke...|          Aceh|Koalisi Pemerintah|\n",
            "|        536|          Aceh I|H. T. Ibrahim S.T...|    Laki-Laki|Komisi XIII|Demokrat|                   -|          Aceh|Koalisi Pemerintah|\n",
            "|          2|         Aceh II|      H. Ruslan Daud|    Laki-Laki|   Komisi V|     PKB|                   -|          Aceh|           Oposisi|\n",
            "|         69|         Aceh II|Ir. H. T. A. Khal...|    Laki-Laki|  Komisi IV|Gerindra|                   -|          Aceh|Koalisi Pemerintah|\n",
            "|        265|         Aceh II|   H. Ilham Pangestu|    Laki-Laki|   Komisi V|  Golkar|Wakil Ketua Badan...|          Aceh|Koalisi Pemerintah|\n",
            "|        266|         Aceh II| Samsul Bahri Tiyong|    Laki-Laki|Komisi XIII|  Golkar|                   -|          Aceh|Koalisi Pemerintah|\n",
            "|        367|         Aceh II|Irsan Sosiawan M....|    Laki-Laki| Komisi XII|  NasDem|                   -|          Aceh|           Oposisi|\n",
            "|        436|         Aceh II|M. Nasir Djamil M...|    Laki-Laki| Komisi III|     PKS|                   -|          Aceh|           Oposisi|\n",
            "|          3|Sumatera Utara I|     Ashari Tambunan|    Laki-Laki|Komisi VIII|     PKB|                   -|Sumatera Utara|           Oposisi|\n",
            "|         70|Sumatera Utara I|   Ade Jona Prasetyo|    Laki-Laki| Komisi XII|Gerindra|                   -|Sumatera Utara|Koalisi Pemerintah|\n",
            "|         71|Sumatera Utara I| M. Husni S.E., M.M.|    Laki-Laki|Komisi VIII|Gerindra|                   -|Sumatera Utara|Koalisi Pemerintah|\n",
            "|        156|Sumatera Utara I|      Dr. Sofyan Tan|    Laki-Laki|   Komisi X|   PDI-P|                   -|Sumatera Utara|           Oposisi|\n",
            "|        157|Sumatera Utara I|Prof. Dr. Yasonna...|    Laki-Laki|Komisi XIII|   PDI-P|                   -|Sumatera Utara|           Oposisi|\n",
            "|        267|Sumatera Utara I|Dr. H. Musa Rajek...|    Laki-Laki|   Komisi V|  Golkar|                   -|Sumatera Utara|Koalisi Pemerintah|\n",
            "|        268|Sumatera Utara I|Kombes. Pol. (Pur...|    Laki-Laki|   Komisi X|  Golkar|                   -|Sumatera Utara|Koalisi Pemerintah|\n",
            "+-----------+----------------+--------------------+-------------+-----------+--------+--------------------+--------------+------------------+\n",
            "only showing top 20 rows\n",
            "\n",
            "root\n",
            " |-- No. Anggota: integer (nullable = true)\n",
            " |-- Daerah pemilihan: string (nullable = true)\n",
            " |-- Nama: string (nullable = true)\n",
            " |-- Jenis Kelamin: string (nullable = true)\n",
            " |-- Komisi: string (nullable = true)\n",
            " |-- Fraksi: string (nullable = true)\n",
            " |-- Jabatan: string (nullable = true)\n",
            " |-- Provinsi: string (nullable = true)\n",
            " |-- Koalisi: string (nullable = true)\n",
            "\n"
          ]
        }
      ]
    },
    {
      "cell_type": "code",
      "source": [
        "# Contoh: pilih anggota dari Fraksi PDIP\n",
        "df_dpr.filter(df_dpr.Fraksi == \"PDI-P\").show()\n",
        "\n",
        "# Contoh: pilih anggota dari Provinsi Jawa Tengah\n",
        "df_dpr.filter(df_dpr.Provinsi == \"Jawa Tengah\").show()\n"
      ],
      "metadata": {
        "colab": {
          "base_uri": "https://localhost:8080/"
        },
        "id": "5FvM4O3LU45O",
        "outputId": "6d7444ad-806a-4100-a024-7744f009488b"
      },
      "execution_count": 152,
      "outputs": [
        {
          "output_type": "stream",
          "name": "stdout",
          "text": [
            "+-----------+--------------------+--------------------+-------------+-----------+------+--------------------+--------------------+-------+\n",
            "|No. Anggota|    Daerah pemilihan|                Nama|Jenis Kelamin|     Komisi|Fraksi|             Jabatan|            Provinsi|Koalisi|\n",
            "+-----------+--------------------+--------------------+-------------+-----------+------+--------------------+--------------------+-------+\n",
            "|        155|              Aceh I|Jamaluddin Idham ...|    Laki-Laki|Komisi XIII| PDI-P|                   -|                Aceh|Oposisi|\n",
            "|        156|    Sumatera Utara I|      Dr. Sofyan Tan|    Laki-Laki|   Komisi X| PDI-P|                   -|      Sumatera Utara|Oposisi|\n",
            "|        157|    Sumatera Utara I|Prof. Dr. Yasonna...|    Laki-Laki|Komisi XIII| PDI-P|                   -|      Sumatera Utara|Oposisi|\n",
            "|        158|   Sumatera Utara II|Drs. Rapidin Simb...|    Laki-Laki|Komisi XIII| PDI-P|                   -|      Sumatera Utara|Oposisi|\n",
            "|        159|   Sumatera Utara II| Sihar P. H. Sitorus|    Laki-Laki|  Komisi IX| PDI-P|                   -|      Sumatera Utara|Oposisi|\n",
            "|        160|  Sumatera Utara III|Bob Andika Mamana...|    Laki-Laki|  Komisi II| PDI-P|                   -|      Sumatera Utara|Oposisi|\n",
            "|        161|  Sumatera Utara III|    Bane Raja Manalu|    Laki-Laki| Komisi VII| PDI-P|                   -|      Sumatera Utara|Oposisi|\n",
            "|        162|    Sumatera Barat I|Alex Indra Lukman...|    Laki-Laki|  Komisi IV| PDI-P|Wakil Ketua Komis...|      Sumatera Barat|Oposisi|\n",
            "|        163|              Riau I|Hj. Dewi Juliani ...|    Perempuan| Komisi III| PDI-P|                   -|                Riau|Oposisi|\n",
            "|        164|             Riau II|     Hj. Siti Aisyah|    Perempuan|Komisi XIII| PDI-P|                   -|                Riau|Oposisi|\n",
            "|        165|               Jambi|  Edi Purwanto M.Si.|    Laki-Laki|   Komisi V| PDI-P|                   -|               Jambi|Oposisi|\n",
            "|        166|  Sumatera Selatan I|Yulian Gunhar S.H...|    Laki-Laki| Komisi XII| PDI-P|                   -|    Sumatera Selatan|Oposisi|\n",
            "|        167| Sumatera Selatan II|H. M. Giri Ramand...|    Laki-Laki|  Komisi II| PDI-P|                   -|    Sumatera Selatan|Oposisi|\n",
            "|        168|            Bengkulu|  Eko Kurnia Ningsih|    Perempuan|  Komisi IX| PDI-P|                   -|            Bengkulu|Oposisi|\n",
            "|        169|           Lampung I|  Drs. Mukhlis Basri|    Laki-Laki|   Komisi V| PDI-P|                   -|             Lampung|Oposisi|\n",
            "|        170|           Lampung I|          Sudin S.E.|    Laki-Laki| Komisi III| PDI-P|                   -|             Lampung|Oposisi|\n",
            "|        171|          Lampung II|drh. I Ketut Suwe...|    Laki-Laki|  Komisi IV| PDI-P|                   -|             Lampung|Oposisi|\n",
            "|        172|Kepulauan Bangka ...|   Ir. Rudianto Tjen|    Laki-Laki|   Komisi I| PDI-P|                   -|Kepulauan Bangka ...|Oposisi|\n",
            "|        173|      Kepulauan Riau|Mayjen. TNI (Purn...|    Laki-Laki|  Komisi IV| PDI-P|Wakil Ketua Badan...|      Kepulauan Riau|Oposisi|\n",
            "|        174|       DKI Jakarta I|       Putra Nababan|    Laki-Laki| Komisi VII| PDI-P|                   -|         DKI Jakarta|Oposisi|\n",
            "+-----------+--------------------+--------------------+-------------+-----------+------+--------------------+--------------------+-------+\n",
            "only showing top 20 rows\n",
            "\n",
            "+-----------+----------------+--------------------+-------------+-----------+--------+--------------------+-----------+------------------+\n",
            "|No. Anggota|Daerah pemilihan|                Nama|Jenis Kelamin|     Komisi|  Fraksi|             Jabatan|   Provinsi|           Koalisi|\n",
            "+-----------+----------------+--------------------+-------------+-----------+--------+--------------------+-----------+------------------+\n",
            "|         28|   Jawa Tengah I|H. Alamuddin Dimy...|    Laki-Laki|  Komisi IX|     PKB|                   -|Jawa Tengah|           Oposisi|\n",
            "|        107|   Jawa Tengah I|        Jamal Mirdad|    Laki-Laki|   Komisi I|Gerindra|                   -|Jawa Tengah|Koalisi Pemerintah|\n",
            "|        189|   Jawa Tengah I|Mochamad Herviano...|    Laki-Laki|   Komisi V|   PDI-P|                   -|Jawa Tengah|           Oposisi|\n",
            "|        190|   Jawa Tengah I|Samuel J. D. Watt...|    Laki-Laki| Komisi VII|   PDI-P|                   -|Jawa Tengah|           Oposisi|\n",
            "|        310|   Jawa Tengah I|Firnando Hadityo ...|    Laki-Laki|  Komisi VI|  Golkar|                   -|Jawa Tengah|Koalisi Pemerintah|\n",
            "|        390|   Jawa Tengah I|        Drs. Fadholi|    Laki-Laki|   Komisi V|  NasDem|                   -|Jawa Tengah|           Oposisi|\n",
            "|        464|   Jawa Tengah I|Dr. H. Muhammad H...|    Laki-Laki| Komisi XII|     PKS|                   -|Jawa Tengah|           Oposisi|\n",
            "|        554|   Jawa Tengah I|dr. Raja Faisal M...|    Laki-Laki|Komisi XIII|Demokrat|                   -|Jawa Tengah|Koalisi Pemerintah|\n",
            "|         29|  Jawa Tengah II|Hj. Hindun Anisah...|    Perempuan|  Komisi IV|     PKB|                   -|Jawa Tengah|           Oposisi|\n",
            "|        108|  Jawa Tengah II|        Abdul Wachid|    Laki-Laki|Komisi VIII|Gerindra|Wakil Ketua Komis...|Jawa Tengah|Koalisi Pemerintah|\n",
            "|        191|  Jawa Tengah II|Dr. H. Musthofa S...|    Laki-Laki|  Komisi XI|   PDI-P|                   -|Jawa Tengah|           Oposisi|\n",
            "|        192|  Jawa Tengah II|Gilang Dhielafara...|    Laki-Laki| Komisi III|   PDI-P|                   -|Jawa Tengah|           Oposisi|\n",
            "|        311|  Jawa Tengah II|Andhika Satya Was...|    Laki-Laki| Komisi VII|  Golkar|                   -|Jawa Tengah|Koalisi Pemerintah|\n",
            "|        312|  Jawa Tengah II|     Jamaludin Malik|    Laki-Laki|Komisi XIII|  Golkar|                   -|Jawa Tengah|Koalisi Pemerintah|\n",
            "|        391|  Jawa Tengah II|   Lestari Moerdijat|    Perempuan|   Komisi X|  NasDem|  Wakil Ketua MPR RI|Jawa Tengah|           Oposisi|\n",
            "|         30| Jawa Tengah III|        Marwan Jafar|    Laki-Laki|   Komisi I|     PKB|                   -|Jawa Tengah|           Oposisi|\n",
            "|         31| Jawa Tengah III|        Eva Monalisa|    Perempuan| Komisi VII|     PKB|                   -|Jawa Tengah|           Oposisi|\n",
            "|        109| Jawa Tengah III|Danang Wicaksana ...|    Laki-Laki|   Komisi V|Gerindra|                   -|Jawa Tengah|Koalisi Pemerintah|\n",
            "|        193| Jawa Tengah III|Haryanto S.H., M....|    Laki-Laki|   Komisi V|   PDI-P|                   -|Jawa Tengah|           Oposisi|\n",
            "|        194| Jawa Tengah III|Dr. Evita Nursant...|    Perempuan| Komisi VII|   PDI-P|Wakil Ketua Komis...|Jawa Tengah|           Oposisi|\n",
            "+-----------+----------------+--------------------+-------------+-----------+--------+--------------------+-----------+------------------+\n",
            "only showing top 20 rows\n",
            "\n"
          ]
        }
      ]
    },
    {
      "cell_type": "code",
      "source": [
        "# Group by Fraksi\n",
        "df_dpr.groupBy(\"Fraksi\").count().show()\n",
        "\n",
        "# Group by Provinsi\n",
        "df_dpr.groupBy(\"Provinsi\").count().show()"
      ],
      "metadata": {
        "colab": {
          "base_uri": "https://localhost:8080/"
        },
        "id": "Snl7Pec7V6Ye",
        "outputId": "9b019048-cf45-445d-bddc-2126e11c54be"
      },
      "execution_count": 155,
      "outputs": [
        {
          "output_type": "stream",
          "name": "stdout",
          "text": [
            "+--------+-----+\n",
            "|  Fraksi|count|\n",
            "+--------+-----+\n",
            "|   PDI-P|  109|\n",
            "|     PKS|   53|\n",
            "|Demokrat|   44|\n",
            "|     PAN|   48|\n",
            "|  NasDem|   69|\n",
            "|  Golkar|  102|\n",
            "|     PKB|   68|\n",
            "|Gerindra|   86|\n",
            "+--------+-----+\n",
            "\n",
            "+-------------------+-----+\n",
            "|           Provinsi|count|\n",
            "+-------------------+-----+\n",
            "|  Kalimantan Tengah|    6|\n",
            "|              Papua|    3|\n",
            "|     Sulawesi Barat|    4|\n",
            "|     Kepulauan Riau|    4|\n",
            "|Nusa Tenggara Barat|   11|\n",
            "|     Sulawesi Utara|    6|\n",
            "|     Sumatera Utara|   30|\n",
            "|        DKI Jakarta|   21|\n",
            "|   Kalimantan Utara|    3|\n",
            "|      Papua Selatan|    3|\n",
            "|     Sumatera Barat|   14|\n",
            "|   Kalimantan Barat|   12|\n",
            "|   Sulawesi Selatan|   24|\n",
            "|               Aceh|   13|\n",
            "|        Papua Barat|    3|\n",
            "|       Papua Tengah|    3|\n",
            "|   Kalimantan Timur|    8|\n",
            "|               Bali|    9|\n",
            "|              Jambi|    8|\n",
            "|       Maluku Utara|    3|\n",
            "+-------------------+-----+\n",
            "only showing top 20 rows\n",
            "\n"
          ]
        }
      ]
    },
    {
      "cell_type": "code",
      "source": [
        "from pyspark.sql import functions as F\n",
        "\n",
        "# Hitung total anggota\n",
        "df_dpr.agg(F.count(\"*\").alias(\"Total Anggota\")).show()\n",
        "\n",
        "# Jumlah anggota per fraksi\n",
        "df_dpr.groupBy(\"Fraksi\").agg(F.count(\"*\").alias(\"Jumlah_Anggota\")).show()\n",
        "\n",
        "# Jumlah anggota per provinsi\n",
        "df_dpr.groupBy(\"Provinsi\").agg(F.count(\"*\").alias(\"Jumlah_Anggota\")).show()\n",
        "\n",
        "# Jumlah anggota laki-laki & perempuan per fraksi\n",
        "df_dpr.groupBy(\"Fraksi\", \"Jenis Kelamin\").agg(F.count(\"*\").alias(\"Jumlah\")).show()"
      ],
      "metadata": {
        "colab": {
          "base_uri": "https://localhost:8080/"
        },
        "id": "0ITTUgG2TtHp",
        "outputId": "d663474a-161b-4a2a-c890-e6486d432da5"
      },
      "execution_count": 146,
      "outputs": [
        {
          "output_type": "stream",
          "name": "stdout",
          "text": [
            "+-------------+\n",
            "|Total Anggota|\n",
            "+-------------+\n",
            "|          579|\n",
            "+-------------+\n",
            "\n",
            "+--------+--------------+\n",
            "|  Fraksi|Jumlah_Anggota|\n",
            "+--------+--------------+\n",
            "|   PDI-P|           109|\n",
            "|     PKS|            53|\n",
            "|Demokrat|            44|\n",
            "|     PAN|            48|\n",
            "|  NasDem|            69|\n",
            "|  Golkar|           102|\n",
            "|     PKB|            68|\n",
            "|Gerindra|            86|\n",
            "+--------+--------------+\n",
            "\n",
            "+-------------------+--------------+\n",
            "|           Provinsi|Jumlah_Anggota|\n",
            "+-------------------+--------------+\n",
            "|  Kalimantan Tengah|             6|\n",
            "|              Papua|             3|\n",
            "|     Sulawesi Barat|             4|\n",
            "|     Kepulauan Riau|             4|\n",
            "|Nusa Tenggara Barat|            11|\n",
            "|     Sulawesi Utara|             6|\n",
            "|     Sumatera Utara|            30|\n",
            "|        DKI Jakarta|            21|\n",
            "|   Kalimantan Utara|             3|\n",
            "|      Papua Selatan|             3|\n",
            "|     Sumatera Barat|            14|\n",
            "|   Kalimantan Barat|            12|\n",
            "|   Sulawesi Selatan|            24|\n",
            "|               Aceh|            13|\n",
            "|        Papua Barat|             3|\n",
            "|       Papua Tengah|             3|\n",
            "|   Kalimantan Timur|             8|\n",
            "|               Bali|             9|\n",
            "|              Jambi|             8|\n",
            "|       Maluku Utara|             3|\n",
            "+-------------------+--------------+\n",
            "only showing top 20 rows\n",
            "\n",
            "+--------+-------------+------+\n",
            "|  Fraksi|Jenis Kelamin|Jumlah|\n",
            "+--------+-------------+------+\n",
            "|     PKB|    Laki-Laki|    52|\n",
            "|Gerindra|    Laki-Laki|    67|\n",
            "|  Golkar|    Perempuan|    20|\n",
            "|Demokrat|    Perempuan|    10|\n",
            "|   PDI-P|    Perempuan|    27|\n",
            "|Gerindra|    Perempuan|    19|\n",
            "|  NasDem|    Laki-Laki|    49|\n",
            "|     PKS|    Perempuan|     9|\n",
            "|  NasDem|    Perempuan|    20|\n",
            "|   PDI-P|    Laki-Laki|    82|\n",
            "|     PKS|    Laki-Laki|    44|\n",
            "|     PAN|    Laki-Laki|    40|\n",
            "|Demokrat|    Laki-Laki|    34|\n",
            "|  Golkar|    Laki-Laki|    82|\n",
            "|     PAN|    Perempuan|     8|\n",
            "|     PKB|    Perempuan|    16|\n",
            "+--------+-------------+------+\n",
            "\n"
          ]
        }
      ]
    }
  ]
}