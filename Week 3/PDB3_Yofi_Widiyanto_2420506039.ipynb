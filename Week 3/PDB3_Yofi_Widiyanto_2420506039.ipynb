{
  "nbformat": 4,
  "nbformat_minor": 0,
  "metadata": {
    "colab": {
      "provenance": []
    },
    "kernelspec": {
      "name": "python3",
      "display_name": "Python 3"
    },
    "language_info": {
      "name": "python"
    }
  },
  "cells": [
    {
      "cell_type": "markdown",
      "source": [
        "### 1. Pengenalan Spark DataFrames\n",
        "Spark DataFrame menyediakan struktur data yang optimal dengan operasi yang dioptimalkan untuk pemrosesan data besar, yang sangat mirip dengan DataFrame di Pandas atau di RDBMS.\n",
        "\n",
        "- **Tugas 1**: Buat DataFrame sederhana di Spark dan eksplorasi beberapa fungsi dasar yang tersedia."
      ],
      "metadata": {
        "id": "SUQTOx5BuiAO"
      }
    },
    {
      "cell_type": "code",
      "execution_count": null,
      "metadata": {
        "colab": {
          "base_uri": "https://localhost:8080/"
        },
        "id": "ycpcjFrWtT9u",
        "outputId": "88bdd919-db3c-45eb-d49e-90389b50abc5"
      },
      "outputs": [
        {
          "output_type": "stream",
          "name": "stdout",
          "text": [
            "+------------+----------+------+\n",
            "|EmployeeName|Department|Salary|\n",
            "+------------+----------+------+\n",
            "|       James|     Sales|  3000|\n",
            "|     Michael|     Sales|  4600|\n",
            "|      Robert|     Sales|  4100|\n",
            "|       Maria|   Finance|  3000|\n",
            "+------------+----------+------+\n",
            "\n"
          ]
        }
      ],
      "source": [
        "# Contoh membuat DataFrame sederhana dan operasi dasar\n",
        "from pyspark.sql import SparkSession\n",
        "spark = SparkSession.builder.appName('HandsOnPertemuan3').getOrCreate()\n",
        "\n",
        "data = [('James', 'Sales', 3000),\n",
        "        ('Michael', 'Sales', 4600),\n",
        "        ('Robert', 'Sales', 4100),\n",
        "        ('Maria', 'Finance', 3000)]\n",
        "columns = ['EmployeeName', 'Department', 'Salary']\n",
        "\n",
        "df = spark.createDataFrame(data, schema=columns)\n",
        "df.show()"
      ]
    },
    {
      "cell_type": "markdown",
      "source": [
        "### 2. Transformasi Dasar dengan DataFrames\n",
        "Pemrosesan data meliputi transformasi seperti filtering, selections, dan aggregations. Spark menyediakan cara efisien untuk melaksanakan operasi ini.\n",
        "\n",
        "- **Tugas 2**: Gunakan operasi filter, select, groupBy untuk mengekstrak informasi dari data, serta lakukan agregasi data untuk mendapatkan insight tentang dataset menggunakan perintah seperti mean, max, sum."
      ],
      "metadata": {
        "id": "MLLWHZbqtgQq"
      }
    },
    {
      "cell_type": "code",
      "source": [
        "# Contoh operasi transformasi DataFrame\n",
        "select('EmployeeName', 'Salary').show()\n",
        "filter(df['Salary'] > 3000).show()\n",
        "groupBy('Department').avg('Salary').show()"
      ],
      "metadata": {
        "id": "PUsUTX6Jtgmg"
      },
      "execution_count": null,
      "outputs": []
    },
    {
      "cell_type": "code",
      "source": [
        "#Select kolom tertentu\n",
        "print(\"Data Kolom EmployeeName dan Salary\")\n",
        "df.select('EmployeeName', 'Salary').show()\n",
        "\n",
        "#Filter gaji lebih dari 3000\n",
        "print(\"Salary above 3000\")\n",
        "df.filter(df['Salary'] > 3000).show()\n",
        "\n",
        "#GroupBy Department dan hitung rata-rata gaji\n",
        "print(\"Mean Salary per Department\")\n",
        "df.groupBy('Department').avg('Salary').show()\n",
        "\n",
        "#GroupBy Department dan hitung nilai maksimum gaji\n",
        "print(\"Salary Max per Department\")\n",
        "df.groupBy('Department').max('Salary').show()\n",
        "\n",
        "#GroupBy Department dan hitung total gaji\n",
        "print(\"Total Salary per Department\")\n",
        "df.groupBy('Department').sum('Salary').show()\n"
      ],
      "metadata": {
        "colab": {
          "base_uri": "https://localhost:8080/"
        },
        "id": "NfWhhv93yYqp",
        "outputId": "fe0a6d25-6083-47e9-ccf7-47a87f018790"
      },
      "execution_count": null,
      "outputs": [
        {
          "output_type": "stream",
          "name": "stdout",
          "text": [
            "Data Kolom EmployeeName dan Salary\n",
            "+------------+------+\n",
            "|EmployeeName|Salary|\n",
            "+------------+------+\n",
            "|       James|  3000|\n",
            "|     Michael|  4600|\n",
            "|      Robert|  4100|\n",
            "|       Maria|  3000|\n",
            "+------------+------+\n",
            "\n",
            "Salary above 3000\n",
            "+------------+----------+------+\n",
            "|EmployeeName|Department|Salary|\n",
            "+------------+----------+------+\n",
            "|     Michael|     Sales|  4600|\n",
            "|      Robert|     Sales|  4100|\n",
            "+------------+----------+------+\n",
            "\n",
            "Mean Salary per Department\n",
            "+----------+-----------+\n",
            "|Department|avg(Salary)|\n",
            "+----------+-----------+\n",
            "|     Sales|     3900.0|\n",
            "|   Finance|     3000.0|\n",
            "+----------+-----------+\n",
            "\n",
            "Salary Max per Department\n",
            "+----------+-----------+\n",
            "|Department|max(Salary)|\n",
            "+----------+-----------+\n",
            "|     Sales|       4600|\n",
            "|   Finance|       3000|\n",
            "+----------+-----------+\n",
            "\n",
            "Total Salary per Department\n",
            "+----------+-----------+\n",
            "|Department|sum(Salary)|\n",
            "+----------+-----------+\n",
            "|     Sales|      11700|\n",
            "|   Finance|       3000|\n",
            "+----------+-----------+\n",
            "\n"
          ]
        }
      ]
    },
    {
      "cell_type": "markdown",
      "source": [
        "### 3. Bekerja dengan Tipe Data Kompleks\n",
        "Spark mendukung tipe data yang kompleks seperti maps, arrays, dan structs yang memungkinkan operasi yang lebih kompleks pada dataset yang kompleks.\n",
        "\n",
        "- **Tugas 3**: Eksplorasi bagaimana mengolah tipe data kompleks dalam Spark DataFrames."
      ],
      "metadata": {
        "id": "4vLqNBR-tg-b"
      }
    },
    {
      "cell_type": "code",
      "source": [
        "# Contoh manipulasi tipe data kompleks\n",
        "df.withColumn('SalaryBonus', df['Salary'] * 0.1).show()\n",
        "df.withColumn('TotalCompensation', df['Salary'] + df['SalaryBonus']).show()"
      ],
      "metadata": {
        "id": "gf68aHr6thX6"
      },
      "execution_count": null,
      "outputs": []
    },
    {
      "cell_type": "code",
      "source": [
        "#Menambah kolom SalaryBonus (10% dari Salary)\n",
        "df = df.withColumn('SalaryBonus', df['Salary'] * 0.1)\n",
        "\n",
        "#Menambah kolom TotalCompensation (Salary + Bonus)\n",
        "df = df.withColumn('TotalCompensation', df['Salary'] + df['SalaryBonus'])\n",
        "\n",
        "#Menampilkan hasil akhir\n",
        "df.show()"
      ],
      "metadata": {
        "colab": {
          "base_uri": "https://localhost:8080/"
        },
        "id": "fpL6N5rezMOQ",
        "outputId": "d8794fe1-5801-4ad9-86be-1cd8e49f514b"
      },
      "execution_count": null,
      "outputs": [
        {
          "output_type": "stream",
          "name": "stdout",
          "text": [
            "+------------+----------+------+-----------+-----------------+\n",
            "|EmployeeName|Department|Salary|SalaryBonus|TotalCompensation|\n",
            "+------------+----------+------+-----------+-----------------+\n",
            "|       James|     Sales|  3000|      300.0|           3300.0|\n",
            "|     Michael|     Sales|  4600|      460.0|           5060.0|\n",
            "|      Robert|     Sales|  4100|      410.0|           4510.0|\n",
            "|       Maria|   Finance|  3000|      300.0|           3300.0|\n",
            "+------------+----------+------+-----------+-----------------+\n",
            "\n"
          ]
        }
      ]
    },
    {
      "cell_type": "markdown",
      "source": [
        "### 4. Operasi Data Lanjutan\n",
        "Menggunakan Spark untuk operasi lanjutan seperti window functions, user-defined functions (UDFs), dan mengoptimalkan query.\n",
        "\n",
        "- **Tugas 4**: Implementasikan window function untuk menghitung running totals atau rangkings."
      ],
      "metadata": {
        "id": "t-dkgd2UtiKW"
      }
    },
    {
      "cell_type": "code",
      "source": [
        "# Contoh menggunakan window functions\n",
        "from pyspark.sql.window import Window\n",
        "from pyspark.sql import functions as F\n",
        "\n",
        "windowSpec = Window.partitionBy('Department').orderBy('Salary')\n",
        "df.withColumn('Rank', F.rank().over(windowSpec)).show()"
      ],
      "metadata": {
        "colab": {
          "base_uri": "https://localhost:8080/"
        },
        "id": "7sY7r1y0tifC",
        "outputId": "3719f024-0ed1-4cdc-f243-69bd10fde55d"
      },
      "execution_count": null,
      "outputs": [
        {
          "output_type": "stream",
          "name": "stdout",
          "text": [
            "+------------+----------+------+-----------+-----------------+----+\n",
            "|EmployeeName|Department|Salary|SalaryBonus|TotalCompensation|Rank|\n",
            "+------------+----------+------+-----------+-----------------+----+\n",
            "|       Maria|   Finance|  3000|      300.0|           3300.0|   1|\n",
            "|       James|     Sales|  3000|      300.0|           3300.0|   1|\n",
            "|      Robert|     Sales|  4100|      410.0|           4510.0|   2|\n",
            "|     Michael|     Sales|  4600|      460.0|           5060.0|   3|\n",
            "+------------+----------+------+-----------+-----------------+----+\n",
            "\n"
          ]
        }
      ]
    },
    {
      "cell_type": "code",
      "source": [
        "from pyspark.sql.window import Window\n",
        "from pyspark.sql.functions import col, sum as _sum, rank\n",
        "\n",
        "# Window berdasarkan Department dengan urutan Salary\n",
        "windowDept = Window.partitionBy(\"Department\").orderBy(col(\"Salary\"))\n",
        "\n",
        "# Running total Salary per Department\n",
        "df_running_total = df.withColumn(\n",
        "    \"RunningTotal\",\n",
        "    _sum(\"Salary\").over(windowDept)\n",
        ")\n",
        "\n",
        "# Ranking Salary per Department\n",
        "df_rank = df_running_total.withColumn(\n",
        "    \"Rank\",\n",
        "    rank().over(windowDept)\n",
        ")\n",
        "\n",
        "df_rank.show()\n"
      ],
      "metadata": {
        "colab": {
          "base_uri": "https://localhost:8080/"
        },
        "id": "VSPbrbYnzUX6",
        "outputId": "4593b9ac-9df1-4c32-e4a2-4eee5281d9de"
      },
      "execution_count": null,
      "outputs": [
        {
          "output_type": "stream",
          "name": "stdout",
          "text": [
            "+------------+----------+------+-----------+-----------------+------------+----+\n",
            "|EmployeeName|Department|Salary|SalaryBonus|TotalCompensation|RunningTotal|Rank|\n",
            "+------------+----------+------+-----------+-----------------+------------+----+\n",
            "|       Maria|   Finance|  3000|      300.0|           3300.0|        3000|   1|\n",
            "|       James|     Sales|  3000|      300.0|           3300.0|        3000|   1|\n",
            "|      Robert|     Sales|  4100|      410.0|           4510.0|        7100|   2|\n",
            "|     Michael|     Sales|  4600|      460.0|           5060.0|       11700|   3|\n",
            "+------------+----------+------+-----------+-----------------+------------+----+\n",
            "\n"
          ]
        }
      ]
    },
    {
      "cell_type": "markdown",
      "source": [],
      "metadata": {
        "id": "4e3U0M82tity"
      }
    },
    {
      "cell_type": "markdown",
      "source": [
        "### 5. Kesimpulan dan Eksplorasi Lebih Lanjut\n",
        "Review apa yang telah dipelajari tentang pemrosesan data menggunakan Spark dan eksplorasi teknik lebih lanjut untuk mengoptimalkan pemrosesan data Anda.\n",
        "<br>**Tugas 5**:\n",
        "- Unduh dataset besar dari [Kaggle](https://www.kaggle.com/) atau sumber lainnya.\n",
        "- Input data csv yang telah di download, kemudian load dan simpan data ke dalam pyspark.\n",
        "- Setelah data berhasil di load menggunakan pyspark, lakukan manipulasi data untuk memperoleh informasi yang dibutuhkan"
      ],
      "metadata": {
        "id": "sQbDFim2u0Dv"
      }
    },
    {
      "cell_type": "code",
      "source": [
        "from pyspark.sql import SparkSession\n",
        "\n",
        "# Buat SparkSession\n",
        "spark = SparkSession.builder.appName(\"anime\").getOrCreate()\n",
        "\n",
        "# Baca CSV ke DataFrame Spark\n",
        "df_anime = spark.read.csv(\"anime.csv\", header=True, inferSchema=True)\n",
        "\n",
        "# Tampilkan DataFrame\n",
        "df_anime.show(5)"
      ],
      "metadata": {
        "colab": {
          "base_uri": "https://localhost:8080/"
        },
        "id": "OF_NV7px0GoB",
        "outputId": "04fffa9a-854a-4238-ef72-0c17a1959338"
      },
      "execution_count": 48,
      "outputs": [
        {
          "output_type": "stream",
          "name": "stdout",
          "text": [
            "+--------+--------------------+--------------------+-----+--------+------+-------+\n",
            "|anime_id|                name|               genre| type|episodes|rating|members|\n",
            "+--------+--------------------+--------------------+-----+--------+------+-------+\n",
            "|   32281|      Kimi no Na wa.|Drama, Romance, S...|Movie|       1|  9.37| 200630|\n",
            "|    5114|Fullmetal Alchemi...|Action, Adventure...|   TV|      64|  9.26| 793665|\n",
            "|   28977|            Gintama°|Action, Comedy, H...|   TV|      51|  9.25| 114262|\n",
            "|    9253|         Steins;Gate|    Sci-Fi, Thriller|   TV|      24|  9.17| 673572|\n",
            "|    9969|       Gintama&#039;|Action, Comedy, H...|   TV|      51|  9.16| 151266|\n",
            "+--------+--------------------+--------------------+-----+--------+------+-------+\n",
            "only showing top 5 rows\n",
            "\n"
          ]
        }
      ]
    },
    {
      "cell_type": "markdown",
      "source": [
        "**Transformasi Dasar dengan DataFrames**"
      ],
      "metadata": {
        "id": "BxFgTkCkhkV_"
      }
    },
    {
      "cell_type": "code",
      "source": [
        "# Filter: mengambil anime dengan rating > 9.2\n",
        "df_anime.filter(df_anime['rating'] > 9.2).select(\"name\", \"rating\").show(5, truncate=False)\n",
        "\n",
        "# Select: memilih kolom tertentu saja\n",
        "df_anime.select(\"name\", \"type\", \"episodes\").show(5, truncate=False)\n",
        "\n",
        "# GroupBy + Aggregation: rata-rata rating per tipe anime\n",
        "df_anime.groupBy(\"type\").mean(\"rating\").show(5)\n",
        "\n",
        "# GroupBy + Aggregation lain: total members per genre\n",
        "df_anime.groupBy(\"genre\").sum(\"members\").show(5, truncate=False)"
      ],
      "metadata": {
        "colab": {
          "base_uri": "https://localhost:8080/"
        },
        "id": "hjZrrEEoLJj3",
        "outputId": "333b9053-b9f9-4f84-af0b-2218b48f814d"
      },
      "execution_count": 55,
      "outputs": [
        {
          "output_type": "stream",
          "name": "stdout",
          "text": [
            "+--------------------------------+------+\n",
            "|name                            |rating|\n",
            "+--------------------------------+------+\n",
            "|Kimi no Na wa.                  |9.37  |\n",
            "|Fullmetal Alchemist: Brotherhood|9.26  |\n",
            "|Gintama°                        |9.25  |\n",
            "|Kahei no Umi                    |9.33  |\n",
            "|Mogura no Motoro                |9.5   |\n",
            "+--------------------------------+------+\n",
            "only showing top 5 rows\n",
            "\n",
            "+--------------------------------+-----+--------+\n",
            "|name                            |type |episodes|\n",
            "+--------------------------------+-----+--------+\n",
            "|Kimi no Na wa.                  |Movie|1       |\n",
            "|Fullmetal Alchemist: Brotherhood|TV   |64      |\n",
            "|Gintama°                        |TV   |51      |\n",
            "|Steins;Gate                     |TV   |24      |\n",
            "|Gintama&#039;                   |TV   |51      |\n",
            "+--------------------------------+-----+--------+\n",
            "only showing top 5 rows\n",
            "\n",
            "+-------+-----------------+\n",
            "|   type|      avg(rating)|\n",
            "+-------+-----------------+\n",
            "|     TV|6.902299101062382|\n",
            "|   NULL|             NULL|\n",
            "|Special|6.523500897666066|\n",
            "|    OVA|6.375220700152198|\n",
            "|  Music|5.588995901639343|\n",
            "+-------+-----------------+\n",
            "only showing top 5 rows\n",
            "\n",
            "+--------------------------------------------------------------+------------+\n",
            "|genre                                                         |sum(members)|\n",
            "+--------------------------------------------------------------+------------+\n",
            "|Action, Comedy, Demons, Fantasy, Martial Arts, School, Shounen|195017      |\n",
            "|Action, Drama, Seinen, Thriller                               |159105      |\n",
            "|Action, Adventure, Mecha, Military, Romance, Sci-Fi, Space    |8405        |\n",
            "|Fantasy, Magic, Shounen                                       |34230       |\n",
            "|Comedy, Ecchi, Romance, School, Shounen                       |143745      |\n",
            "+--------------------------------------------------------------+------------+\n",
            "only showing top 5 rows\n",
            "\n"
          ]
        }
      ]
    },
    {
      "cell_type": "markdown",
      "source": [
        "**Bekerja dengan Tipe Data Kompleks**"
      ],
      "metadata": {
        "id": "YI22hl_whxry"
      }
    },
    {
      "cell_type": "code",
      "source": [
        "from pyspark.sql.functions import split, struct\n",
        "\n",
        "# Buat kolom array dari genre (dipisahkan dengan koma)\n",
        "df_complex = df_anime.withColumn(\"genre_array\", split(df_anime[\"genre\"], \",\"))\n",
        "\n",
        "# Buat kolom struct untuk menyatukan rating dan members\n",
        "df_complex = df_complex.withColumn(\"stats\", struct(\"rating\", \"members\"))\n",
        "\n",
        "# Lihat hasil\n",
        "df_complex.select(\"name\", \"genre_array\", \"stats\").show(5, truncate=False)"
      ],
      "metadata": {
        "colab": {
          "base_uri": "https://localhost:8080/"
        },
        "id": "7a7ziEvvLLMv",
        "outputId": "e921c185-205d-440c-e1b3-b2925cd8ee18"
      },
      "execution_count": 50,
      "outputs": [
        {
          "output_type": "stream",
          "name": "stdout",
          "text": [
            "+--------------------------------+--------------------------------------------------------------------+--------------+\n",
            "|name                            |genre_array                                                         |stats         |\n",
            "+--------------------------------+--------------------------------------------------------------------+--------------+\n",
            "|Kimi no Na wa.                  |[Drama,  Romance,  School,  Supernatural]                           |{9.37, 200630}|\n",
            "|Fullmetal Alchemist: Brotherhood|[Action,  Adventure,  Drama,  Fantasy,  Magic,  Military,  Shounen] |{9.26, 793665}|\n",
            "|Gintama°                        |[Action,  Comedy,  Historical,  Parody,  Samurai,  Sci-Fi,  Shounen]|{9.25, 114262}|\n",
            "|Steins;Gate                     |[Sci-Fi,  Thriller]                                                 |{9.17, 673572}|\n",
            "|Gintama&#039;                   |[Action,  Comedy,  Historical,  Parody,  Samurai,  Sci-Fi,  Shounen]|{9.16, 151266}|\n",
            "+--------------------------------+--------------------------------------------------------------------+--------------+\n",
            "only showing top 5 rows\n",
            "\n"
          ]
        }
      ]
    },
    {
      "cell_type": "markdown",
      "source": [
        "**Operasi Data Lanjutan**"
      ],
      "metadata": {
        "id": "22cEUbDsh6mF"
      }
    },
    {
      "cell_type": "code",
      "source": [
        "from pyspark.sql.window import Window\n",
        "from pyspark.sql.functions import col, rank, sum as _sum\n",
        "\n",
        "# WindowSpec untuk ranking berdasarkan rating per type\n",
        "windowRank = Window.partitionBy(\"type\").orderBy(col(\"rating\").desc())\n",
        "\n",
        "# WindowSpec untuk running total members per type\n",
        "windowRunning = Window.partitionBy(\"type\").orderBy(col(\"rating\").desc()).rowsBetween(Window.unboundedPreceding, Window.currentRow)\n",
        "\n",
        "df_final = df_rank.withColumn(\"RunningMembers\", _sum(\"members\").over(windowRunning))\n",
        "\n",
        "# Tampilkan hasil\n",
        "df_final.select(\"name\", \"type\", \"rating\", \"members\", \"Rank\", \"RunningMembers\").show(5, truncate=False)\n"
      ],
      "metadata": {
        "colab": {
          "base_uri": "https://localhost:8080/"
        },
        "id": "wlE5EhnSLQx9",
        "outputId": "700595f2-c4bf-462a-9e24-d4e93d967563"
      },
      "execution_count": 54,
      "outputs": [
        {
          "output_type": "stream",
          "name": "stdout",
          "text": [
            "+---------------------------------------------------+-----+------+-------+----+--------------+\n",
            "|name                                               |type |rating|members|Rank|RunningMembers|\n",
            "+---------------------------------------------------+-----+------+-------+----+--------------+\n",
            "|Taka no Tsume 8: Yoshida-kun no X-Files            |Movie|10.0  |13     |1   |13            |\n",
            "|Mogura no Motoro                                   |Movie|9.5   |62     |2   |75            |\n",
            "|Kimi no Na wa.                                     |Movie|9.37  |200630 |3   |200705        |\n",
            "|Kahei no Umi                                       |Movie|9.33  |44     |4   |200749        |\n",
            "|Gintama Movie: Kanketsu-hen - Yorozuya yo Eien Nare|Movie|9.1   |72534  |5   |273283        |\n",
            "+---------------------------------------------------+-----+------+-------+----+--------------+\n",
            "only showing top 5 rows\n",
            "\n"
          ]
        }
      ]
    }
  ]
}